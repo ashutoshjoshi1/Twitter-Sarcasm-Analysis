{
  "nbformat": 4,
  "nbformat_minor": 0,
  "metadata": {
    "colab": {
      "provenance": []
    },
    "kernelspec": {
      "name": "python3",
      "display_name": "Python 3"
    },
    "language_info": {
      "name": "python"
    }
  },
  "cells": [
    {
      "cell_type": "code",
      "execution_count": null,
      "metadata": {
        "id": "Ncd_nYPHKkuX"
      },
      "outputs": [],
      "source": [
        "from sklearn.model_selection import train_test_split\n",
        "from sklearn.feature_extraction.text import CountVectorizer\n",
        "from sklearn.feature_extraction.text import TfidfVectorizer\n",
        "from sklearn.feature_extraction.text import HashingVectorizer"
      ]
    },
    {
      "cell_type": "code",
      "source": [
        "import pandas as pd\n",
        "clean_df = pd.read_csv(\"/content/Clean.csv\")"
      ],
      "metadata": {
        "id": "WZWF9a_6KreU"
      },
      "execution_count": null,
      "outputs": []
    },
    {
      "cell_type": "code",
      "source": [
        "corpus = list(clean_df['headline'])"
      ],
      "metadata": {
        "id": "i7ejjPXTLSBW"
      },
      "execution_count": null,
      "outputs": []
    },
    {
      "cell_type": "markdown",
      "source": [
        "# Count Vectorizers"
      ],
      "metadata": {
        "id": "e48u_LT_Ltef"
      }
    },
    {
      "cell_type": "code",
      "source": [
        "cv = CountVectorizer()\n",
        "x = cv.fit_transform(corpus).toarray()\n",
        "y = clean_df.iloc[:, 1].values\n",
        "x_train, x_test, y_train, y_test = train_test_split(x, y, test_size = 0.10, random_state = 0)"
      ],
      "metadata": {
        "id": "5sOx_JVMLndI"
      },
      "execution_count": null,
      "outputs": []
    },
    {
      "cell_type": "code",
      "source": [
        "y"
      ],
      "metadata": {
        "colab": {
          "base_uri": "https://localhost:8080/"
        },
        "id": "GZmdqIOGMb2N",
        "outputId": "343f3a02-1b2c-41ea-d9a6-a6d7ceb8c0c7"
      },
      "execution_count": null,
      "outputs": [
        {
          "output_type": "execute_result",
          "data": {
            "text/plain": [
              "array([1, 0, 0, ..., 0, 1, 1])"
            ]
          },
          "metadata": {},
          "execution_count": 5
        }
      ]
    },
    {
      "cell_type": "code",
      "source": [
        "from keras.models import Sequential\n",
        "from keras.layers import Dense\n",
        "from keras.layers import Flatten\n",
        "from keras.layers.convolutional import Conv1D\n",
        "from keras.layers.convolutional import MaxPooling1D\n",
        "from keras.layers.embeddings import Embedding\n",
        "from keras.preprocessing import sequence"
      ],
      "metadata": {
        "id": "1ocD6bmQLoPM"
      },
      "execution_count": null,
      "outputs": []
    },
    {
      "cell_type": "code",
      "source": [
        "mx_w = 32\n",
        "cnn = Sequential()\n",
        "\n",
        "cnn.add(Embedding(15726 , 8, input_length=mx_w))\n",
        "cnn.add(Conv1D(8, 3, padding='same', activation='relu'))\n",
        "cnn.add(MaxPooling1D())\n",
        "cnn.add(Flatten())\n",
        "cnn.add(Dense(16, activation='relu'))\n",
        "cnn.add(Dense(12, activation='relu'))\n",
        "cnn.add(Dense(8, activation='relu'))\n",
        "cnn.add(Dense(4, activation='relu'))\n",
        "cnn.add(Dense(1, activation='sigmoid'))\n",
        "\n",
        "cnn.compile(loss='binary_crossentropy', optimizer='adam', metrics=['accuracy'])\n",
        "cnn.summary()"
      ],
      "metadata": {
        "colab": {
          "base_uri": "https://localhost:8080/"
        },
        "id": "CSQNelBYMHQN",
        "outputId": "87a151d6-ac20-4d0d-c97f-197892f555a1"
      },
      "execution_count": null,
      "outputs": [
        {
          "output_type": "stream",
          "name": "stdout",
          "text": [
            "Model: \"sequential\"\n",
            "_________________________________________________________________\n",
            " Layer (type)                Output Shape              Param #   \n",
            "=================================================================\n",
            " embedding (Embedding)       (None, 32, 8)             125808    \n",
            "                                                                 \n",
            " conv1d (Conv1D)             (None, 32, 8)             200       \n",
            "                                                                 \n",
            " max_pooling1d (MaxPooling1D  (None, 16, 8)            0         \n",
            " )                                                               \n",
            "                                                                 \n",
            " flatten (Flatten)           (None, 128)               0         \n",
            "                                                                 \n",
            " dense (Dense)               (None, 16)                2064      \n",
            "                                                                 \n",
            " dense_1 (Dense)             (None, 12)                204       \n",
            "                                                                 \n",
            " dense_2 (Dense)             (None, 8)                 104       \n",
            "                                                                 \n",
            " dense_3 (Dense)             (None, 4)                 36        \n",
            "                                                                 \n",
            " dense_4 (Dense)             (None, 1)                 5         \n",
            "                                                                 \n",
            "=================================================================\n",
            "Total params: 128,421\n",
            "Trainable params: 128,421\n",
            "Non-trainable params: 0\n",
            "_________________________________________________________________\n"
          ]
        }
      ]
    },
    {
      "cell_type": "code",
      "source": [
        "x_train = sequence.pad_sequences(x_train, maxlen=mx_w)\n",
        "x_test = sequence.pad_sequences(x_test, maxlen=mx_w)\n",
        "\n",
        "history = cnn.fit(x_train, y_train, validation_data=(x_test, y_test), epochs=5, batch_size=128, verbose=2)\n",
        "scores = cnn.evaluate(x_test, y_test, verbose=0)\n",
        "print(\"Accuracy: %.2f%%\" % (scores[1]*100))"
      ],
      "metadata": {
        "colab": {
          "base_uri": "https://localhost:8080/"
        },
        "id": "OjV5unKTMNWW",
        "outputId": "128391ef-1781-492b-dc4f-859c5ada71ab"
      },
      "execution_count": null,
      "outputs": [
        {
          "output_type": "stream",
          "name": "stdout",
          "text": [
            "Epoch 1/5\n",
            "202/202 - 3s - loss: 0.6922 - accuracy: 0.5198 - val_loss: 0.6922 - val_accuracy: 0.5217 - 3s/epoch - 15ms/step\n",
            "Epoch 2/5\n",
            "202/202 - 1s - loss: 0.6921 - accuracy: 0.5238 - val_loss: 0.6923 - val_accuracy: 0.5217 - 1s/epoch - 7ms/step\n",
            "Epoch 3/5\n",
            "202/202 - 1s - loss: 0.6921 - accuracy: 0.5238 - val_loss: 0.6923 - val_accuracy: 0.5217 - 1s/epoch - 7ms/step\n",
            "Epoch 4/5\n",
            "202/202 - 1s - loss: 0.6921 - accuracy: 0.5238 - val_loss: 0.6922 - val_accuracy: 0.5217 - 1s/epoch - 7ms/step\n",
            "Epoch 5/5\n",
            "202/202 - 1s - loss: 0.6921 - accuracy: 0.5238 - val_loss: 0.6923 - val_accuracy: 0.5217 - 1s/epoch - 7ms/step\n",
            "Accuracy: 52.17%\n"
          ]
        }
      ]
    },
    {
      "cell_type": "code",
      "source": [
        "import matplotlib.pyplot as plt\n",
        "plt.plot(history.history['accuracy'])\n",
        "plt.plot(history.history['val_accuracy'])\n",
        "plt.title('model accuracy')\n",
        "plt.ylabel('accuracy')\n",
        "plt.xlabel('epoch')\n",
        "plt.legend(['train', 'test'], loc='upper left')\n",
        "plt.show()"
      ],
      "metadata": {
        "colab": {
          "base_uri": "https://localhost:8080/",
          "height": 294
        },
        "id": "TuQL0AtjPdW9",
        "outputId": "a4b62950-efee-41da-f89a-3a91e4c844b6"
      },
      "execution_count": null,
      "outputs": [
        {
          "output_type": "display_data",
          "data": {
            "text/plain": [
              "<Figure size 432x288 with 1 Axes>"
            ],
            "image/png": "[encoded data removed]"
          },
          "metadata": {
            "needs_background": "light"
          }
        }
      ]
    },
    {
      "cell_type": "code",
      "source": [
        "plt.plot(history.history['loss'])\n",
        "plt.plot(history.history['val_loss'])\n",
        "plt.title('model loss')\n",
        "plt.ylabel('loss')\n",
        "plt.xlabel('epoch')\n",
        "plt.legend(['train', 'test'], loc='upper left')\n",
        "plt.show()"
      ],
      "metadata": {
        "colab": {
          "base_uri": "https://localhost:8080/",
          "height": 294
        },
        "id": "d_7CZ4ySPg05",
        "outputId": "f3a89b20-0d41-405e-ca68-f49f34ec5b4b"
      },
      "execution_count": null,
      "outputs": [
        {
          "output_type": "display_data",
          "data": {
            "text/plain": [
              "<Figure size 432x288 with 1 Axes>"
            ],
            "image/png": "[encoded data removed]"
          },
          "metadata": {
            "needs_background": "light"
          }
        }
      ]
    },
    {
      "cell_type": "markdown",
      "source": [
        "# Tfidf Vectorizer"
      ],
      "metadata": {
        "id": "kVt2XGf2OuLs"
      }
    },
    {
      "cell_type": "code",
      "source": [
        "tfdf = TfidfVectorizer(max_df=.65, min_df=1, stop_words=None, use_idf=True, norm=None)\n",
        "x = tfdf.fit_transform(corpus).toarray()\n",
        "y = clean_df.iloc[:, 1].values\n",
        "x_train, x_test, y_train, y_test = train_test_split(x, y, test_size = 0.10, random_state = 0)"
      ],
      "metadata": {
        "id": "_W9rTyICMZKZ"
      },
      "execution_count": null,
      "outputs": []
    },
    {
      "cell_type": "code",
      "source": [
        "x_train = sequence.pad_sequences(x_train, maxlen=mx_w)\n",
        "x_test = sequence.pad_sequences(x_test, maxlen=mx_w)\n",
        "\n",
        "history = cnn.fit(x_train, y_train, validation_data=(x_test, y_test), epochs=5, batch_size=128, verbose=2)\n",
        "scores = cnn.evaluate(x_test, y_test, verbose=0)\n",
        "print(\"Accuracy: %.2f%%\" % (scores[1]*100))"
      ],
      "metadata": {
        "id": "O4fN2XxZO3Bx"
      },
      "execution_count": null,
      "outputs": []
    },
    {
      "cell_type": "code",
      "source": [
        "plt.plot(history.history['accuracy'])\n",
        "plt.plot(history.history['val_accuracy'])\n",
        "plt.title('model accuracy')\n",
        "plt.ylabel('accuracy')\n",
        "plt.xlabel('epoch')\n",
        "plt.legend(['train', 'test'], loc='upper left')\n",
        "plt.show()"
      ],
      "metadata": {
        "id": "aqB1E9MJPknB"
      },
      "execution_count": null,
      "outputs": []
    },
    {
      "cell_type": "code",
      "source": [
        "plt.plot(history.history['loss'])\n",
        "plt.plot(history.history['val_loss'])\n",
        "plt.title('model loss')\n",
        "plt.ylabel('loss')\n",
        "plt.xlabel('epoch')\n",
        "plt.legend(['train', 'test'], loc='upper left')\n",
        "plt.show()"
      ],
      "metadata": {
        "id": "MbAS4uHTPlvy"
      },
      "execution_count": null,
      "outputs": []
    },
    {
      "cell_type": "markdown",
      "source": [
        "# Hashing Vectorizer"
      ],
      "metadata": {
        "id": "z7vTjt5sO9u6"
      }
    },
    {
      "cell_type": "code",
      "source": [
        "hsh = HashingVectorizer(n_features=2**4)\n",
        "x = hsh.fit_transform(corpus).toarray()\n",
        "y = clean_df.iloc[:, 1].values\n",
        "x_train, x_test, y_train, y_test = train_test_split(x, y, test_size = 0.10, random_state = 0)"
      ],
      "metadata": {
        "id": "5Cm2JT1tPA_L"
      },
      "execution_count": null,
      "outputs": []
    },
    {
      "cell_type": "code",
      "source": [
        "x_train = sequence.pad_sequences(x_train, maxlen=mx_w)\n",
        "x_test = sequence.pad_sequences(x_test, maxlen=mx_w)\n",
        "\n",
        "history = cnn.fit(x_train, y_train, validation_data=(x_test, y_test), epochs=5, batch_size=128, verbose=2)\n",
        "scores = cnn.evaluate(x_test, y_test, verbose=0)\n",
        "print(\"Accuracy: %.2f%%\" % (scores[1]*100))"
      ],
      "metadata": {
        "id": "ZTzim-iNPR52"
      },
      "execution_count": null,
      "outputs": []
    },
    {
      "cell_type": "code",
      "source": [
        "plt.plot(history.history['accuracy'])\n",
        "plt.plot(history.history['val_accuracy'])\n",
        "plt.title('model accuracy')\n",
        "plt.ylabel('accuracy')\n",
        "plt.xlabel('epoch')\n",
        "plt.legend(['train', 'test'], loc='upper left')\n",
        "plt.show()"
      ],
      "metadata": {
        "id": "KGbubdeDPoDX"
      },
      "execution_count": null,
      "outputs": []
    },
    {
      "cell_type": "code",
      "source": [
        "plt.plot(history.history['loss'])\n",
        "plt.plot(history.history['val_loss'])\n",
        "plt.title('model loss')\n",
        "plt.ylabel('loss')\n",
        "plt.xlabel('epoch')\n",
        "plt.legend(['train', 'test'], loc='upper left')\n",
        "plt.show()"
      ],
      "metadata": {
        "id": "inaPqzbwPovI"
      },
      "execution_count": null,
      "outputs": []
    }
  ]
}